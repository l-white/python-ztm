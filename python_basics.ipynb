{
 "cells": [
  {
   "cell_type": "code",
   "execution_count": null,
   "id": "64318629",
   "metadata": {},
   "outputs": [],
   "source": []
  },
  {
   "cell_type": "markdown",
   "id": "f957de12",
   "metadata": {},
   "source": [
    "# Variables\n",
    "All programming languages have variables so that we can store information. Assigning a value is also known as binding. The number below is stored as a binary representation (zeros and ones).\n",
    "\n",
    "The following are best practices to use when writing Python variables:\n",
    "* They should be snake_case\n",
    "* Start with lowercase or underscore\n",
    "* Use letters, numbers, or underscores\n",
    "* They are case-sensitive\n",
    "* Don't overwrite keywords\n",
    "* Make variable names descriptive\n",
    "\n",
    "Other things to be aware of:\n",
    "* Constants should be in capitals, i.e., PI = 3.14\n",
    "* There are dunder variables that start with two underscores that should not be assigned\n",
    "* Underscore in Python singnifies a private variable (_user_iq)"
   ]
  },
  {
   "cell_type": "code",
   "execution_count": 3,
   "id": "86e4a263",
   "metadata": {},
   "outputs": [
    {
     "name": "stdout",
     "output_type": "stream",
     "text": [
      "47.5\n"
     ]
    }
   ],
   "source": [
    "user_iq = 190\n",
    "user_age = user_iq / 4\n",
    "print(user_age)"
   ]
  },
  {
   "cell_type": "code",
   "execution_count": 4,
   "id": "f86b84e0",
   "metadata": {},
   "outputs": [
    {
     "name": "stdout",
     "output_type": "stream",
     "text": [
      "2\n"
     ]
    }
   ],
   "source": [
    "a, b, c = 1, 2, 3\n",
    "print(b)"
   ]
  },
  {
   "cell_type": "markdown",
   "id": "02dfa7a3",
   "metadata": {},
   "source": [
    "# Expressions vs. Statements\n",
    "An expression is the right side of a statement. A statement is an entire line of code that performs some sort of action.\n",
    "\n",
    "As in the previous example, user_iq / 4 is an expression. user_age = user_iq / 4 and user_iq = 190 are statements."
   ]
  },
  {
   "cell_type": "markdown",
   "id": "06d8700f",
   "metadata": {},
   "source": [
    "# Augmented Assignment Operator\n",
    "In the example below, some_value += 2 makes use of the augmented assignment operator."
   ]
  },
  {
   "cell_type": "code",
   "execution_count": 2,
   "id": "579c4e4a",
   "metadata": {},
   "outputs": [],
   "source": [
    "some_value = 5\n",
    "some_value += 2"
   ]
  },
  {
   "cell_type": "markdown",
   "id": "f5023e0e",
   "metadata": {},
   "source": [
    "# Strings (str)\n",
    "A string is a piece of text and can be encapsulated in single or double quotes.\n"
   ]
  },
  {
   "cell_type": "code",
   "execution_count": 3,
   "id": "ad9535fb",
   "metadata": {},
   "outputs": [
    {
     "name": "stdout",
     "output_type": "stream",
     "text": [
      "<class 'str'>\n"
     ]
    }
   ],
   "source": [
    "print(type('hellooooo'))"
   ]
  },
  {
   "cell_type": "code",
   "execution_count": 8,
   "id": "abf5ab83",
   "metadata": {},
   "outputs": [],
   "source": [
    "username = 'supercoder'\n",
    "password = 'supersecret'\n",
    "long_string = '''\n",
    "WOW\n",
    " 00\n",
    "---\n",
    "'''"
   ]
  },
  {
   "cell_type": "code",
   "execution_count": 9,
   "id": "65e6a13e",
   "metadata": {},
   "outputs": [
    {
     "name": "stdout",
     "output_type": "stream",
     "text": [
      "\n",
      "WOW\n",
      " 00\n",
      "---\n",
      "\n"
     ]
    }
   ],
   "source": [
    "print(long_string)"
   ]
  },
  {
   "cell_type": "markdown",
   "id": "f11ce78a",
   "metadata": {},
   "source": [
    "# String Concatenation"
   ]
  },
  {
   "cell_type": "code",
   "execution_count": 10,
   "id": "360bec82",
   "metadata": {},
   "outputs": [
    {
     "name": "stdout",
     "output_type": "stream",
     "text": [
      "hellooooo Andrei\n"
     ]
    }
   ],
   "source": [
    "print('hellooooo' + ' Andrei')"
   ]
  },
  {
   "cell_type": "markdown",
   "id": "0367f71a",
   "metadata": {},
   "source": [
    "# Type Conversion"
   ]
  },
  {
   "cell_type": "code",
   "execution_count": 11,
   "id": "f0ad0c1a",
   "metadata": {},
   "outputs": [
    {
     "name": "stdout",
     "output_type": "stream",
     "text": [
      "<class 'str'>\n"
     ]
    }
   ],
   "source": [
    "print(type(str(100)))"
   ]
  },
  {
   "cell_type": "code",
   "execution_count": 12,
   "id": "7c20a0b0",
   "metadata": {},
   "outputs": [
    {
     "name": "stdout",
     "output_type": "stream",
     "text": [
      "<class 'int'>\n"
     ]
    }
   ],
   "source": [
    "print(type(int(str(100))))"
   ]
  },
  {
   "cell_type": "markdown",
   "id": "cff587dd",
   "metadata": {},
   "source": [
    "# Escape Sequence"
   ]
  },
  {
   "cell_type": "code",
   "execution_count": 14,
   "id": "ad66d0fa",
   "metadata": {},
   "outputs": [
    {
     "name": "stdout",
     "output_type": "stream",
     "text": [
      "It's kind of sunny\n"
     ]
    }
   ],
   "source": [
    "weather = 'It\\'s kind of sunny'\n",
    "print(weather)"
   ]
  },
  {
   "cell_type": "code",
   "execution_count": 15,
   "id": "e235b9df",
   "metadata": {},
   "outputs": [
    {
     "name": "stdout",
     "output_type": "stream",
     "text": [
      "\t weather\n"
     ]
    }
   ],
   "source": [
    "print('\\t weather')"
   ]
  },
  {
   "cell_type": "code",
   "execution_count": 17,
   "id": "0b7c9d83",
   "metadata": {},
   "outputs": [
    {
     "name": "stdout",
     "output_type": "stream",
     "text": [
      "--\n",
      "Hope you have a good day\n"
     ]
    }
   ],
   "source": [
    "print('--\\nHope you have a good day')"
   ]
  },
  {
   "cell_type": "markdown",
   "id": "166d1d2e",
   "metadata": {},
   "source": [
    "# Formatted Strings\n",
    "In general, the formatted string is recommended now (f-string) versus .format."
   ]
  },
  {
   "cell_type": "code",
   "execution_count": 8,
   "id": "784d1e22",
   "metadata": {},
   "outputs": [
    {
     "name": "stdout",
     "output_type": "stream",
     "text": [
      "Hi Johnny. You are 55 years old.\n",
      "Hi Johnny. You are 55 years old.\n",
      "Hi Johnny. You are 55 years old.\n"
     ]
    }
   ],
   "source": [
    "name = 'Johnny'\n",
    "age = 55\n",
    "print(f\"Hi {name}. You are {age} years old.\") # preferred\n",
    "print(\"Hi {}. You are {} years old.\".format(name, age)) # python2 syntax\n",
    "print(\"Hi {0}. You are {1} years old.\".format(name, age))"
   ]
  },
  {
   "cell_type": "markdown",
   "id": "192149dc",
   "metadata": {},
   "source": [
    "# String Instances\n",
    "str is an ordered sequence of characters that are stored in memory in same order and can be accessed by indeces."
   ]
  },
  {
   "cell_type": "code",
   "execution_count": 20,
   "id": "a0a399cd",
   "metadata": {},
   "outputs": [
    {
     "name": "stdout",
     "output_type": "stream",
     "text": [
      "L\n",
      "La\n",
      "Lu\n",
      "aura\n",
      "Lau\n",
      "Lua\n",
      "Laura\n",
      "r\n",
      "aruaL\n"
     ]
    }
   ],
   "source": [
    "name = \"Laura\"\n",
    "print(name[0])\n",
    "print(name[0:2])\n",
    "print(name[0:4:2])\n",
    "print(name[1:])\n",
    "print(name[:3])\n",
    "print(name[::2])\n",
    "print(name[::1])\n",
    "print(name[-2])\n",
    "print(name[::-1]) # reverse a string"
   ]
  },
  {
   "cell_type": "markdown",
   "id": "ceeff2b6",
   "metadata": {},
   "source": [
    "# Immutability\n",
    "Strings are immutable in Python. If we reassign a string in Python, it will overwrite the original string.\n",
    "[start:stop:step] is string slicing."
   ]
  },
  {
   "cell_type": "markdown",
   "id": "aacac8f9",
   "metadata": {},
   "source": [
    "# Built-In Functions and Methods\n",
    "We have been learning about built-in functions that Python can take on data, such as str(), int(), type(), print(), and float(). Some resources for built-in functions are [Python String Methods](https://www.w3schools.com/python/python_ref_string.asp) [Built-in Functions](https://docs.python.org/3/library/functions.html)\n"
   ]
  },
  {
   "cell_type": "code",
   "execution_count": 2,
   "id": "04d68a5e",
   "metadata": {},
   "outputs": [
    {
     "name": "stdout",
     "output_type": "stream",
     "text": [
      "9\n"
     ]
    }
   ],
   "source": [
    "print(len(\"hellooooo\"))"
   ]
  },
  {
   "cell_type": "code",
   "execution_count": 5,
   "id": "165b7ad5",
   "metadata": {},
   "outputs": [
    {
     "name": "stdout",
     "output_type": "stream",
     "text": [
      "hellooooo\n",
      "hellooooo\n"
     ]
    }
   ],
   "source": [
    "greet = \"hellooooo\"\n",
    "print(greet[:])\n",
    "print(greet[0:len(greet)])"
   ]
  },
  {
   "cell_type": "markdown",
   "id": "1a8d9daf",
   "metadata": {},
   "source": [
    "A good code editor will show available methods after we add dot notation."
   ]
  },
  {
   "cell_type": "code",
   "execution_count": 13,
   "id": "8010d6cf",
   "metadata": {},
   "outputs": [
    {
     "name": "stdout",
     "output_type": "stream",
     "text": [
      "TO BE OR NOT TO BE\n",
      "To be or not to be\n",
      "3\n",
      "to me or not to me\n",
      "to be or not to be\n"
     ]
    }
   ],
   "source": [
    "quote = \"to be or not to be\"\n",
    "print(quote.upper())\n",
    "print(quote.capitalize())\n",
    "print(quote.find('be')) # index of the word 'be'\n",
    "print(quote.replace('be', 'me')) # replace all occurances of 'be' with 'me'\n",
    "print(quote) # after the code above prints, it is removed from memory. The original string is not modified"
   ]
  },
  {
   "cell_type": "markdown",
   "id": "d595c60c",
   "metadata": {},
   "source": [
    "# Booleans\n",
    "A boolean can either be set to true or false. We can use them to control the flow of our program."
   ]
  },
  {
   "cell_type": "code",
   "execution_count": 15,
   "id": "b7da5b70",
   "metadata": {},
   "outputs": [
    {
     "name": "stdout",
     "output_type": "stream",
     "text": [
      "True\n"
     ]
    }
   ],
   "source": [
    "name = \"Andrei\"\n",
    "isCool = True\n",
    "print(isCool)"
   ]
  },
  {
   "cell_type": "code",
   "execution_count": 17,
   "id": "9ccd30b0",
   "metadata": {},
   "outputs": [
    {
     "name": "stdout",
     "output_type": "stream",
     "text": [
      "True\n",
      "False\n"
     ]
    }
   ],
   "source": [
    "# convert integers into boolean values\n",
    "print(bool(1))\n",
    "print(bool(0))"
   ]
  },
  {
   "cell_type": "markdown",
   "id": "9f433135",
   "metadata": {},
   "source": [
    "# DEVELOPER FUNDAMENTALS II\n",
    "As soon as Python sees a #, it adds a comment.\n",
    "\n",
    "Guidelines:\n",
    "* When you comment your code, you're adding valuable content to help another programmer or yourself when you review it later.\n",
    "* Add comments to explain complexity rather than for everything."
   ]
  },
  {
   "cell_type": "code",
   "execution_count": null,
   "id": "dc7e9119",
   "metadata": {},
   "outputs": [],
   "source": []
  }
 ],
 "metadata": {
  "kernelspec": {
   "display_name": "Python 3 (ipykernel)",
   "language": "python",
   "name": "python3"
  },
  "language_info": {
   "codemirror_mode": {
    "name": "ipython",
    "version": 3
   },
   "file_extension": ".py",
   "mimetype": "text/x-python",
   "name": "python",
   "nbconvert_exporter": "python",
   "pygments_lexer": "ipython3",
   "version": "3.8.11"
  }
 },
 "nbformat": 4,
 "nbformat_minor": 5
}
